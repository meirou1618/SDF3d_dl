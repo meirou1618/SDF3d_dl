{
 "metadata": {
  "language_info": {
   "codemirror_mode": {
    "name": "ipython",
    "version": 3
   },
   "file_extension": ".py",
   "mimetype": "text/x-python",
   "name": "python",
   "nbconvert_exporter": "python",
   "pygments_lexer": "ipython3",
   "version": "3.9.5"
  },
  "orig_nbformat": 2,
  "kernelspec": {
   "name": "python395jvsc74a57bd0815b746931c540dd900bc689bff56968bb61769b1159081e25b8d44643e03281",
   "display_name": "Python 3.9.5 64-bit ('Python39')"
  }
 },
 "nbformat": 4,
 "nbformat_minor": 2,
 "cells": [
  {
   "source": [
    "問題１と問題２の回答\n"
   ],
   "cell_type": "markdown",
   "metadata": {}
  },
  {
   "cell_type": "code",
   "execution_count": 17,
   "metadata": {},
   "outputs": [],
   "source": [
    "import numpy as np\n",
    "import matplotlib.pyplot as plt\n",
    "from tqdm import tqdm\n",
    "\n",
    "OUTPUT_fig = 'output/fig'\n",
    "OUTPUT_csv = 'output/csv'\n",
    "os.makedirs(OUTPUT_csv, exist_ok=True)\n",
    "os.makedirs(OUTPUT_fig, exist_ok=True)"
   ]
  },
  {
   "source": [
    "それぞれの関数の定義"
   ],
   "cell_type": "markdown",
   "metadata": {}
  },
  {
   "cell_type": "code",
   "execution_count": 51,
   "metadata": {},
   "outputs": [],
   "source": [
    "#球のSDFクラス\n",
    "class circle:\n",
    "    def __init__(self, c, r):\n",
    "        self.c = c\n",
    "        self.r = r\n",
    "\n",
    "    def sdf(self, x):\n",
    "        return np.linalg.norm(x - self.c)-self.r, x - self.c\n",
    "\n",
    "#ランパード反射関数\n",
    "def rel_Lambert(I, x, l_point, n, k_d):\n",
    "    xl = l_point - x\n",
    "    r = np.linalg.norm(xl)\n",
    "    l = xl/r\n",
    "\n",
    "    return k_d*(I/r**2)*max(0, np.dot(l.T, n))\n",
    "\n",
    "#環境反射\n",
    "def rel_environment(I_a, k_a):\n",
    "    return k_a*I_a\n",
    "\n",
    "#レイマーチング関数\n",
    "def raymarching(ray, forcus, sdf):\n",
    "    beta = 0.01\n",
    "    vec_ray = beta*(ray/np.linalg.norm(ray))\n",
    "    x = forcus + vec_ray\n",
    "    dist, vec_n= sdf(x)\n",
    "\n",
    "    flag = True\n",
    "    step = 0\n",
    "    while -1e-1 > dist or dist > 1e-1:\n",
    "        \n",
    "        pre_dist = dist\n",
    "        if dist > 0:\n",
    "            x = x + vec_ray\n",
    "            dist, vec_n = sdf(x)\n",
    "        else:          \n",
    "            x = x - 0.01*vec_ray\n",
    "            dist, vec_n = sdf(x)\n",
    "            flag = False\n",
    "\n",
    "\n",
    "        if flag and pre_dist < dist: #no material is same return\n",
    "            return forcus, np.zeros((3,1))\n",
    "\n",
    "        step += 1\n",
    "\n",
    "    return x, vec_n"
   ]
  },
  {
   "source": [
    "各パラメータ"
   ],
   "cell_type": "markdown",
   "metadata": {}
  },
  {
   "cell_type": "code",
   "execution_count": 59,
   "metadata": {},
   "outputs": [],
   "source": [
    "#rotation transration　x軸中心に45度回転\n",
    "cos = 1/np.sqrt(2)\n",
    "sin = 1/np.sqrt(2)\n",
    "R = [[1, 0, 0],\n",
    "     [0, cos, -sin],\n",
    "     [0, sin, cos]]\n",
    "R = np.array(R)\n",
    "T = [0, 3, -3]\n",
    "T = np.array(T).reshape((3,1))\n",
    "A = np.append(R, T, axis=1)\n",
    "#center of circle\n",
    "w_c = [0, 0, 0]\n",
    "w_c = np.array(w_c).reshape((3,1))\n",
    "#circle model\n",
    "model = circle(0,1)\n",
    "#camera\n",
    "camera = [0,0,0,1]\n",
    "camera = np.array(camera).reshape((4,1))\n",
    "camera = np.dot(A, camera)\n",
    "#screen\n",
    "screen = np.zeros((500,500))\n",
    "#camera matrix\n",
    "K = np.eye(3)\n",
    "f_x = 500\n",
    "f_y = 500\n",
    "K[0,0] = f_x\n",
    "K[1,1] = f_y\n",
    "K[0,2] = 250\n",
    "K[1,2] = 250\n",
    "#parameter\n",
    "I = 0.5\n",
    "k_d = 1\n",
    "I_a = 0.1\n",
    "k_a = 0.1"
   ]
  },
  {
   "source": [
    "レイマーチング実行"
   ],
   "cell_type": "markdown",
   "metadata": {}
  },
  {
   "cell_type": "code",
   "execution_count": 61,
   "metadata": {},
   "outputs": [
    {
     "output_type": "stream",
     "name": "stderr",
     "text": [
      "100%|██████████| 500/500 [09:58<00:00,  1.20s/it]\n"
     ]
    }
   ],
   "source": [
    "width = int(screen.shape[0]/2)\n",
    "hight = int(screen.shape[1]/2)\n",
    "for i in tqdm(range(-width, width)):\n",
    "    i = i/f_x\n",
    "    for j in range(-hight, hight):\n",
    "        j = j/f_y\n",
    "        forcus = [i, j, 1, 1]\n",
    "        forcus = np.array(forcus).reshape((4,1))\n",
    "        forcus_camera = forcus[:3,:]\n",
    "        forcus = np.dot(A, forcus)\n",
    "        \n",
    "        ray = forcus - camera\n",
    "        x, vec_n = raymarching(ray, forcus, model.sdf)\n",
    "        if np.array_equal(forcus, x):\n",
    "            vec_sc = np.dot(K, forcus_camera)\n",
    "            screen[int(vec_sc[0][0]), int(vec_sc[1][0])] = 0\n",
    "        else:\n",
    "            vec_sc = np.dot(K, forcus_camera)\n",
    "            screen[int(vec_sc[0][0]), int(vec_sc[1][0])] = rel_Lambert(I, x, camera, vec_n, k_d) + rel_environment(I_a,k_a)\n"
   ]
  },
  {
   "cell_type": "code",
   "execution_count": 58,
   "metadata": {},
   "outputs": [
    {
     "output_type": "display_data",
     "data": {
      "text/plain": "<Figure size 432x288 with 1 Axes>",
      "image/svg+xml": "<?xml version=\"1.0\" encoding=\"utf-8\" standalone=\"no\"?>\r\n<!DOCTYPE svg PUBLIC \"-//W3C//DTD SVG 1.1//EN\"\r\n  \"http://www.w3.org/Graphics/SVG/1.1/DTD/svg11.dtd\">\r\n<svg height=\"252.099904pt\" version=\"1.1\" viewBox=\"0 0 257.9275 252.099904\" width=\"257.9275pt\" xmlns=\"http://www.w3.org/2000/svg\" xmlns:xlink=\"http://www.w3.org/1999/xlink\">\r\n <metadata>\r\n  <rdf:RDF xmlns:cc=\"http://creativecommons.org/ns#\" xmlns:dc=\"http://purl.org/dc/elements/1.1/\" xmlns:rdf=\"http://www.w3.org/1999/02/22-rdf-syntax-ns#\">\r\n   <cc:Work>\r\n    <dc:type rdf:resource=\"http://purl.org/dc/dcmitype/StillImage\"/>\r\n    <dc:date>2021-06-06T20:09:49.289110</dc:date>\r\n    <dc:format>image/svg+xml</dc:format>\r\n    <dc:creator>\r\n     <cc:Agent>\r\n      <dc:title>Matplotlib v3.4.2, https://matplotlib.org/</dc:title>\r\n     </cc:Agent>\r\n    </dc:creator>\r\n   </cc:Work>\r\n  </rdf:RDF>\r\n </metadata>\r\n <defs>\r\n  <style type=\"text/css\">*{stroke-linecap:butt;stroke-linejoin:round;}</style>\r\n </defs>\r\n <g id=\"figure_1\">\r\n  <g id=\"patch_1\">\r\n   <path d=\"M 0 252.099904 \r\nL 257.9275 252.099904 \r\nL 257.9275 0 \r\nL 0 0 \r\nz\r\n\" style=\"fill:none;\"/>\r\n  </g>\r\n  <g id=\"axes_1\">\r\n   <g id=\"patch_2\">\r\n    <path d=\"M 33.2875 228.221779 \r\nL 250.7275 228.221779 \r\nL 250.7275 10.781779 \r\nL 33.2875 10.781779 \r\nz\r\n\" style=\"fill:#ffffff;\"/>\r\n   </g>\r\n   <g clip-path=\"url(#pa37fd85793)\">\r\n    <image height=\"218\" id=\"image245bc152e7\" transform=\"scale(1 -1)translate(0 -218)\" width=\"218\" x=\"33.2875\" xlink:href=\"data:image/png;base64,\r\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\" y=\"-10.221779\"/>\r\n   </g>\r\n   <g id=\"matplotlib.axis_1\">\r\n    <g id=\"xtick_1\">\r\n     <g id=\"line2d_1\">\r\n      <defs>\r\n       <path d=\"M 0 0 \r\nL 0 3.5 \r\n\" id=\"m0603ad558b\" style=\"stroke:#000000;stroke-width:0.8;\"/>\r\n      </defs>\r\n      <g>\r\n       <use style=\"stroke:#000000;stroke-width:0.8;\" x=\"33.50494\" xlink:href=\"#m0603ad558b\" y=\"228.221779\"/>\r\n      </g>\r\n     </g>\r\n     <g id=\"text_1\">\r\n      <!-- 0 -->\r\n      <g transform=\"translate(30.32369 242.820216)scale(0.1 -0.1)\">\r\n       <defs>\r\n        <path d=\"M 2034 4250 \r\nQ 1547 4250 1301 3770 \r\nQ 1056 3291 1056 2328 \r\nQ 1056 1369 1301 889 \r\nQ 1547 409 2034 409 \r\nQ 2525 409 2770 889 \r\nQ 3016 1369 3016 2328 \r\nQ 3016 3291 2770 3770 \r\nQ 2525 4250 2034 4250 \r\nz\r\nM 2034 4750 \r\nQ 2819 4750 3233 4129 \r\nQ 3647 3509 3647 2328 \r\nQ 3647 1150 3233 529 \r\nQ 2819 -91 2034 -91 \r\nQ 1250 -91 836 529 \r\nQ 422 1150 422 2328 \r\nQ 422 3509 836 4129 \r\nQ 1250 4750 2034 4750 \r\nz\r\n\" id=\"DejaVuSans-30\" transform=\"scale(0.015625)\"/>\r\n       </defs>\r\n       <use xlink:href=\"#DejaVuSans-30\"/>\r\n      </g>\r\n     </g>\r\n    </g>\r\n    <g id=\"xtick_2\">\r\n     <g id=\"line2d_2\">\r\n      <g>\r\n       <use style=\"stroke:#000000;stroke-width:0.8;\" x=\"76.99294\" xlink:href=\"#m0603ad558b\" y=\"228.221779\"/>\r\n      </g>\r\n     </g>\r\n     <g id=\"text_2\">\r\n      <!-- 100 -->\r\n      <g transform=\"translate(67.44919 242.820216)scale(0.1 -0.1)\">\r\n       <defs>\r\n        <path d=\"M 794 531 \r\nL 1825 531 \r\nL 1825 4091 \r\nL 703 3866 \r\nL 703 4441 \r\nL 1819 4666 \r\nL 2450 4666 \r\nL 2450 531 \r\nL 3481 531 \r\nL 3481 0 \r\nL 794 0 \r\nL 794 531 \r\nz\r\n\" id=\"DejaVuSans-31\" transform=\"scale(0.015625)\"/>\r\n       </defs>\r\n       <use xlink:href=\"#DejaVuSans-31\"/>\r\n       <use x=\"63.623047\" xlink:href=\"#DejaVuSans-30\"/>\r\n       <use x=\"127.246094\" xlink:href=\"#DejaVuSans-30\"/>\r\n      </g>\r\n     </g>\r\n    </g>\r\n    <g id=\"xtick_3\">\r\n     <g id=\"line2d_3\">\r\n      <g>\r\n       <use style=\"stroke:#000000;stroke-width:0.8;\" x=\"120.48094\" xlink:href=\"#m0603ad558b\" y=\"228.221779\"/>\r\n      </g>\r\n     </g>\r\n     <g id=\"text_3\">\r\n      <!-- 200 -->\r\n      <g transform=\"translate(110.93719 242.820216)scale(0.1 -0.1)\">\r\n       <defs>\r\n        <path d=\"M 1228 531 \r\nL 3431 531 \r\nL 3431 0 \r\nL 469 0 \r\nL 469 531 \r\nQ 828 903 1448 1529 \r\nQ 2069 2156 2228 2338 \r\nQ 2531 2678 2651 2914 \r\nQ 2772 3150 2772 3378 \r\nQ 2772 3750 2511 3984 \r\nQ 2250 4219 1831 4219 \r\nQ 1534 4219 1204 4116 \r\nQ 875 4013 500 3803 \r\nL 500 4441 \r\nQ 881 4594 1212 4672 \r\nQ 1544 4750 1819 4750 \r\nQ 2544 4750 2975 4387 \r\nQ 3406 4025 3406 3419 \r\nQ 3406 3131 3298 2873 \r\nQ 3191 2616 2906 2266 \r\nQ 2828 2175 2409 1742 \r\nQ 1991 1309 1228 531 \r\nz\r\n\" id=\"DejaVuSans-32\" transform=\"scale(0.015625)\"/>\r\n       </defs>\r\n       <use xlink:href=\"#DejaVuSans-32\"/>\r\n       <use x=\"63.623047\" xlink:href=\"#DejaVuSans-30\"/>\r\n       <use x=\"127.246094\" xlink:href=\"#DejaVuSans-30\"/>\r\n      </g>\r\n     </g>\r\n    </g>\r\n    <g id=\"xtick_4\">\r\n     <g id=\"line2d_4\">\r\n      <g>\r\n       <use style=\"stroke:#000000;stroke-width:0.8;\" x=\"163.96894\" xlink:href=\"#m0603ad558b\" y=\"228.221779\"/>\r\n      </g>\r\n     </g>\r\n     <g id=\"text_4\">\r\n      <!-- 300 -->\r\n      <g transform=\"translate(154.42519 242.820216)scale(0.1 -0.1)\">\r\n       <defs>\r\n        <path d=\"M 2597 2516 \r\nQ 3050 2419 3304 2112 \r\nQ 3559 1806 3559 1356 \r\nQ 3559 666 3084 287 \r\nQ 2609 -91 1734 -91 \r\nQ 1441 -91 1130 -33 \r\nQ 819 25 488 141 \r\nL 488 750 \r\nQ 750 597 1062 519 \r\nQ 1375 441 1716 441 \r\nQ 2309 441 2620 675 \r\nQ 2931 909 2931 1356 \r\nQ 2931 1769 2642 2001 \r\nQ 2353 2234 1838 2234 \r\nL 1294 2234 \r\nL 1294 2753 \r\nL 1863 2753 \r\nQ 2328 2753 2575 2939 \r\nQ 2822 3125 2822 3475 \r\nQ 2822 3834 2567 4026 \r\nQ 2313 4219 1838 4219 \r\nQ 1578 4219 1281 4162 \r\nQ 984 4106 628 3988 \r\nL 628 4550 \r\nQ 988 4650 1302 4700 \r\nQ 1616 4750 1894 4750 \r\nQ 2613 4750 3031 4423 \r\nQ 3450 4097 3450 3541 \r\nQ 3450 3153 3228 2886 \r\nQ 3006 2619 2597 2516 \r\nz\r\n\" id=\"DejaVuSans-33\" transform=\"scale(0.015625)\"/>\r\n       </defs>\r\n       <use xlink:href=\"#DejaVuSans-33\"/>\r\n       <use x=\"63.623047\" xlink:href=\"#DejaVuSans-30\"/>\r\n       <use x=\"127.246094\" xlink:href=\"#DejaVuSans-30\"/>\r\n      </g>\r\n     </g>\r\n    </g>\r\n    <g id=\"xtick_5\">\r\n     <g id=\"line2d_5\">\r\n      <g>\r\n       <use style=\"stroke:#000000;stroke-width:0.8;\" x=\"207.45694\" xlink:href=\"#m0603ad558b\" y=\"228.221779\"/>\r\n      </g>\r\n     </g>\r\n     <g id=\"text_5\">\r\n      <!-- 400 -->\r\n      <g transform=\"translate(197.91319 242.820216)scale(0.1 -0.1)\">\r\n       <defs>\r\n        <path d=\"M 2419 4116 \r\nL 825 1625 \r\nL 2419 1625 \r\nL 2419 4116 \r\nz\r\nM 2253 4666 \r\nL 3047 4666 \r\nL 3047 1625 \r\nL 3713 1625 \r\nL 3713 1100 \r\nL 3047 1100 \r\nL 3047 0 \r\nL 2419 0 \r\nL 2419 1100 \r\nL 313 1100 \r\nL 313 1709 \r\nL 2253 4666 \r\nz\r\n\" id=\"DejaVuSans-34\" transform=\"scale(0.015625)\"/>\r\n       </defs>\r\n       <use xlink:href=\"#DejaVuSans-34\"/>\r\n       <use x=\"63.623047\" xlink:href=\"#DejaVuSans-30\"/>\r\n       <use x=\"127.246094\" xlink:href=\"#DejaVuSans-30\"/>\r\n      </g>\r\n     </g>\r\n    </g>\r\n   </g>\r\n   <g id=\"matplotlib.axis_2\">\r\n    <g id=\"ytick_1\">\r\n     <g id=\"line2d_6\">\r\n      <defs>\r\n       <path d=\"M 0 0 \r\nL -3.5 0 \r\n\" id=\"m6c6bd30058\" style=\"stroke:#000000;stroke-width:0.8;\"/>\r\n      </defs>\r\n      <g>\r\n       <use style=\"stroke:#000000;stroke-width:0.8;\" x=\"33.2875\" xlink:href=\"#m6c6bd30058\" y=\"10.999219\"/>\r\n      </g>\r\n     </g>\r\n     <g id=\"text_6\">\r\n      <!-- 0 -->\r\n      <g transform=\"translate(19.925 14.798437)scale(0.1 -0.1)\">\r\n       <use xlink:href=\"#DejaVuSans-30\"/>\r\n      </g>\r\n     </g>\r\n    </g>\r\n    <g id=\"ytick_2\">\r\n     <g id=\"line2d_7\">\r\n      <g>\r\n       <use style=\"stroke:#000000;stroke-width:0.8;\" x=\"33.2875\" xlink:href=\"#m6c6bd30058\" y=\"54.487219\"/>\r\n      </g>\r\n     </g>\r\n     <g id=\"text_7\">\r\n      <!-- 100 -->\r\n      <g transform=\"translate(7.2 58.286437)scale(0.1 -0.1)\">\r\n       <use xlink:href=\"#DejaVuSans-31\"/>\r\n       <use x=\"63.623047\" xlink:href=\"#DejaVuSans-30\"/>\r\n       <use x=\"127.246094\" xlink:href=\"#DejaVuSans-30\"/>\r\n      </g>\r\n     </g>\r\n    </g>\r\n    <g id=\"ytick_3\">\r\n     <g id=\"line2d_8\">\r\n      <g>\r\n       <use style=\"stroke:#000000;stroke-width:0.8;\" x=\"33.2875\" xlink:href=\"#m6c6bd30058\" y=\"97.975219\"/>\r\n      </g>\r\n     </g>\r\n     <g id=\"text_8\">\r\n      <!-- 200 -->\r\n      <g transform=\"translate(7.2 101.774437)scale(0.1 -0.1)\">\r\n       <use xlink:href=\"#DejaVuSans-32\"/>\r\n       <use x=\"63.623047\" xlink:href=\"#DejaVuSans-30\"/>\r\n       <use x=\"127.246094\" xlink:href=\"#DejaVuSans-30\"/>\r\n      </g>\r\n     </g>\r\n    </g>\r\n    <g id=\"ytick_4\">\r\n     <g id=\"line2d_9\">\r\n      <g>\r\n       <use style=\"stroke:#000000;stroke-width:0.8;\" x=\"33.2875\" xlink:href=\"#m6c6bd30058\" y=\"141.463219\"/>\r\n      </g>\r\n     </g>\r\n     <g id=\"text_9\">\r\n      <!-- 300 -->\r\n      <g transform=\"translate(7.2 145.262437)scale(0.1 -0.1)\">\r\n       <use xlink:href=\"#DejaVuSans-33\"/>\r\n       <use x=\"63.623047\" xlink:href=\"#DejaVuSans-30\"/>\r\n       <use x=\"127.246094\" xlink:href=\"#DejaVuSans-30\"/>\r\n      </g>\r\n     </g>\r\n    </g>\r\n    <g id=\"ytick_5\">\r\n     <g id=\"line2d_10\">\r\n      <g>\r\n       <use style=\"stroke:#000000;stroke-width:0.8;\" x=\"33.2875\" xlink:href=\"#m6c6bd30058\" y=\"184.951219\"/>\r\n      </g>\r\n     </g>\r\n     <g id=\"text_10\">\r\n      <!-- 400 -->\r\n      <g transform=\"translate(7.2 188.750437)scale(0.1 -0.1)\">\r\n       <use xlink:href=\"#DejaVuSans-34\"/>\r\n       <use x=\"63.623047\" xlink:href=\"#DejaVuSans-30\"/>\r\n       <use x=\"127.246094\" xlink:href=\"#DejaVuSans-30\"/>\r\n      </g>\r\n     </g>\r\n    </g>\r\n   </g>\r\n   <g id=\"patch_3\">\r\n    <path d=\"M 33.2875 228.221779 \r\nL 33.2875 10.781779 \r\n\" style=\"fill:none;stroke:#000000;stroke-linecap:square;stroke-linejoin:miter;stroke-width:0.8;\"/>\r\n   </g>\r\n   <g id=\"patch_4\">\r\n    <path d=\"M 250.7275 228.221779 \r\nL 250.7275 10.781779 \r\n\" style=\"fill:none;stroke:#000000;stroke-linecap:square;stroke-linejoin:miter;stroke-width:0.8;\"/>\r\n   </g>\r\n   <g id=\"patch_5\">\r\n    <path d=\"M 33.2875 228.221779 \r\nL 250.7275 228.221779 \r\n\" style=\"fill:none;stroke:#000000;stroke-linecap:square;stroke-linejoin:miter;stroke-width:0.8;\"/>\r\n   </g>\r\n   <g id=\"patch_6\">\r\n    <path d=\"M 33.2875 10.781779 \r\nL 250.7275 10.781779 \r\n\" style=\"fill:none;stroke:#000000;stroke-linecap:square;stroke-linejoin:miter;stroke-width:0.8;\"/>\r\n   </g>\r\n  </g>\r\n </g>\r\n <defs>\r\n  <clipPath id=\"pa37fd85793\">\r\n   <rect height=\"217.44\" width=\"217.44\" x=\"33.2875\" y=\"10.781779\"/>\r\n  </clipPath>\r\n </defs>\r\n</svg>\r\n",
      "image/png": "[encoded data removed]"
     },
     "metadata": {
      "needs_background": "light"
     }
    }
   ],
   "source": [
    "%matplotlib inline\n",
    "plt.imshow(screen.T, 'gray')\n",
    "plt.imsave(OUTPUT_fig+'/ex2.jpg', screen.T)\n",
    "plt.show()"
   ]
  },
  {
   "cell_type": "code",
   "execution_count": null,
   "metadata": {},
   "outputs": [],
   "source": []
  }
 ]
}